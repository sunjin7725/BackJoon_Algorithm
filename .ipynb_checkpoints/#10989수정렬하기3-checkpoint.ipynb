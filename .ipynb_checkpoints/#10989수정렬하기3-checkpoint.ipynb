{
 "cells": [
  {
   "cell_type": "code",
   "execution_count": 10,
   "metadata": {},
   "outputs": [
    {
     "name": "stdout",
     "output_type": "stream",
     "text": [
      "10\n",
      "5\n",
      "2\n",
      "3\n",
      "1\n",
      "4\n",
      "2\n",
      "3\n",
      "5\n",
      "1\n",
      "7\n"
     ]
    }
   ],
   "source": [
    "import heapq\n",
    "\n",
    "num = int(input())\n",
    "num_list = []\n",
    "for i in range(num):\n",
    "    heapq.heappush(num_list,int(input()))"
   ]
  },
  {
   "cell_type": "code",
   "execution_count": 17,
   "metadata": {
    "scrolled": false
   },
   "outputs": [
    {
     "name": "stdout",
     "output_type": "stream",
     "text": [
      "7\n",
      "5\n",
      "5\n",
      "3\n",
      "3\n",
      "4\n",
      "2\n",
      "2\n",
      "1\n"
     ]
    }
   ],
   "source": [
    "for i in range(num-1,0,-1):\n",
    "    print(num_list[i])"
   ]
  },
  {
   "cell_type": "code",
   "execution_count": 28,
   "metadata": {
    "scrolled": true
   },
   "outputs": [
    {
     "name": "stdout",
     "output_type": "stream",
     "text": [
      "10\n",
      "5\n",
      "2\n",
      "3\n",
      "1\n",
      "4\n",
      "2\n",
      "3\n",
      "5\n",
      "1\n",
      "7\n"
     ]
    }
   ],
   "source": [
    "num = int(input())\n",
    "_list = [0] * 10000\n",
    "\n",
    "for i in range(num):\n",
    "    input_num = int(input())\n",
    "    _list[input_num-1] += 1"
   ]
  },
  {
   "cell_type": "code",
   "execution_count": 29,
   "metadata": {},
   "outputs": [
    {
     "name": "stdout",
     "output_type": "stream",
     "text": [
      "1\n",
      "1\n",
      "2\n",
      "2\n",
      "3\n",
      "3\n",
      "4\n",
      "5\n",
      "5\n",
      "7\n"
     ]
    }
   ],
   "source": [
    "count = 1\n",
    "for i in _list:\n",
    "    if not i == 0:\n",
    "        for j in range(i):\n",
    "            print(count)\n",
    "    count+=1"
   ]
  },
  {
   "cell_type": "code",
   "execution_count": null,
   "metadata": {},
   "outputs": [],
   "source": [
    "import sys\n",
    "\n",
    "case = int(input())\n",
    "result = [0 for i in range(10001)]\n",
    "for num in sys.stdin:\n",
    "    result[int(num)] += 1\n",
    "\n",
    "for i in range(10001):\n",
    "    if result[i] > 0:\n",
    "        for j in range(result[i]):\n",
    "            print(i)"
   ]
  }
 ],
 "metadata": {
  "kernelspec": {
   "display_name": "Python 3",
   "language": "python",
   "name": "python3"
  },
  "language_info": {
   "codemirror_mode": {
    "name": "ipython",
    "version": 3
   },
   "file_extension": ".py",
   "mimetype": "text/x-python",
   "name": "python",
   "nbconvert_exporter": "python",
   "pygments_lexer": "ipython3",
   "version": "3.7.4"
  }
 },
 "nbformat": 4,
 "nbformat_minor": 2
}
