{
 "cells": [
  {
   "cell_type": "code",
   "execution_count": 12,
   "metadata": {},
   "outputs": [],
   "source": [
    "end = 15\n",
    "start = 1\n",
    "time = [0]*100001"
   ]
  },
  {
   "cell_type": "code",
   "execution_count": 13,
   "metadata": {},
   "outputs": [
    {
     "name": "stdout",
     "output_type": "stream",
     "text": [
      "5 17\n",
      "4\n"
     ]
    }
   ],
   "source": [
    "from collections import deque\n",
    "start, end = map(int, input().split())\n",
    "time = [0]*100001\n",
    "\n",
    "from collections import deque\n",
    "q = deque()\n",
    "q.append(start)\n",
    "\n",
    "while q:\n",
    "    now = q.popleft()\n",
    "    \n",
    "    if now == end:\n",
    "        print(time[end])\n",
    "        break\n",
    "    for i in (now-1, now+1, now*2):\n",
    "        if 0 <= i <= 100000 and time[i] == 0:\n",
    "            time[i] = time[now] + 1\n",
    "            q.append(i)"
   ]
  },
  {
   "cell_type": "code",
   "execution_count": 2,
   "metadata": {},
   "outputs": [],
   "source": [
    "from collections import deque"
   ]
  },
  {
   "cell_type": "code",
   "execution_count": 3,
   "metadata": {},
   "outputs": [],
   "source": [
    "q = deque()"
   ]
  },
  {
   "cell_type": "code",
   "execution_count": 4,
   "metadata": {},
   "outputs": [
    {
     "name": "stdout",
     "output_type": "stream",
     "text": [
      "deque([])\n"
     ]
    }
   ],
   "source": [
    "print(q)"
   ]
  },
  {
   "cell_type": "code",
   "execution_count": 5,
   "metadata": {},
   "outputs": [],
   "source": [
    "q.append(start)"
   ]
  },
  {
   "cell_type": "code",
   "execution_count": 6,
   "metadata": {},
   "outputs": [
    {
     "name": "stdout",
     "output_type": "stream",
     "text": [
      "deque([1])\n"
     ]
    }
   ],
   "source": [
    "print(q)"
   ]
  },
  {
   "cell_type": "code",
   "execution_count": 7,
   "metadata": {},
   "outputs": [
    {
     "name": "stdout",
     "output_type": "stream",
     "text": [
      "deque([0, 2])\n",
      "deque([2, 1])\n",
      "deque([1, 3, 4])\n",
      "deque([3, 4])\n",
      "deque([4, 6])\n",
      "deque([6, 5, 8])\n",
      "deque([5, 8, 7, 12])\n",
      "deque([8, 7, 12, 10])\n",
      "deque([7, 12, 10, 9, 16])\n",
      "deque([12, 10, 9, 16, 14])\n",
      "deque([10, 9, 16, 14, 11, 13, 24])\n",
      "deque([9, 16, 14, 11, 13, 24, 20])\n",
      "deque([16, 14, 11, 13, 24, 20, 18])\n",
      "deque([14, 11, 13, 24, 20, 18, 15, 17, 32])\n",
      "deque([11, 13, 24, 20, 18, 15, 17, 32, 28])\n",
      "deque([13, 24, 20, 18, 15, 17, 32, 28, 22])\n",
      "deque([24, 20, 18, 15, 17, 32, 28, 22, 26])\n",
      "deque([20, 18, 15, 17, 32, 28, 22, 26, 23, 25, 48])\n",
      "deque([18, 15, 17, 32, 28, 22, 26, 23, 25, 48, 19, 21, 40])\n",
      "deque([15, 17, 32, 28, 22, 26, 23, 25, 48, 19, 21, 40, 36])\n",
      "5\n"
     ]
    }
   ],
   "source": [
    "while q:\n",
    "    now = q.popleft()\n",
    "    \n",
    "    if now == end:\n",
    "        print(time[end])\n",
    "        break\n",
    "    for i in (now-1, now+1, now*2):\n",
    "        if 0 <= i < 100000 and time[i] == 0:\n",
    "            time[i] = time[now] + 1\n",
    "            q.append(i)\n",
    "    print(q)"
   ]
  },
  {
   "cell_type": "code",
   "execution_count": null,
   "metadata": {},
   "outputs": [],
   "source": []
  }
 ],
 "metadata": {
  "kernelspec": {
   "display_name": "Python 3",
   "language": "python",
   "name": "python3"
  },
  "language_info": {
   "codemirror_mode": {
    "name": "ipython",
    "version": 3
   },
   "file_extension": ".py",
   "mimetype": "text/x-python",
   "name": "python",
   "nbconvert_exporter": "python",
   "pygments_lexer": "ipython3",
   "version": "3.7.4"
  }
 },
 "nbformat": 4,
 "nbformat_minor": 2
}
