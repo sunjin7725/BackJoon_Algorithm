{
 "cells": [
  {
   "cell_type": "code",
   "execution_count": 1,
   "metadata": {
    "scrolled": true
   },
   "outputs": [
    {
     "name": "stdout",
     "output_type": "stream",
     "text": [
      "15\n"
     ]
    }
   ],
   "source": [
    "num = int(input())"
   ]
  },
  {
   "cell_type": "code",
   "execution_count": 2,
   "metadata": {},
   "outputs": [],
   "source": [
    "_list = []"
   ]
  },
  {
   "cell_type": "code",
   "execution_count": 3,
   "metadata": {},
   "outputs": [
    {
     "name": "stdout",
     "output_type": "stream",
     "text": [
      "push 1\n",
      "push 2\n",
      "front\n",
      "1\n",
      "back\n",
      "2\n",
      "size\n",
      "2\n",
      "empty\n",
      "0\n",
      "pop\n",
      "1\n",
      "pop\n",
      "2\n",
      "pop\n",
      "-1\n",
      "size\n",
      "0\n",
      "empty\n",
      "1\n",
      "pop\n",
      "-1\n",
      "push 2\n",
      "empty\n",
      "0\n",
      "front\n",
      "2\n"
     ]
    }
   ],
   "source": [
    "for i in range(num):\n",
    "    ask = input().split()\n",
    "    if len(ask) == 2:\n",
    "        _list.append(int(ask[1]))\n",
    "    else:\n",
    "        if ask[0] == 'pop':\n",
    "            if not len(_list) == 0:\n",
    "                print(_list.pop(0))\n",
    "            else:\n",
    "                print(-1)\n",
    "        elif ask[0] == 'size':\n",
    "            print(len(_list))\n",
    "        elif ask[0] == 'empty':\n",
    "            if len(_list) == 0:\n",
    "                print(1)\n",
    "            else:\n",
    "                print(0)\n",
    "        elif ask[0] == 'front':\n",
    "            if not len(_list) == 0:\n",
    "                print(_list[0])\n",
    "            else:\n",
    "                print(-1)\n",
    "        elif ask[0] == 'back':\n",
    "            if not len(_list) == 0:\n",
    "                print(_list[-1])\n",
    "            else:\n",
    "                print(-1)\n",
    "            "
   ]
  },
  {
   "cell_type": "code",
   "execution_count": null,
   "metadata": {},
   "outputs": [],
   "source": []
  }
 ],
 "metadata": {
  "kernelspec": {
   "display_name": "Python 3",
   "language": "python",
   "name": "python3"
  },
  "language_info": {
   "codemirror_mode": {
    "name": "ipython",
    "version": 3
   },
   "file_extension": ".py",
   "mimetype": "text/x-python",
   "name": "python",
   "nbconvert_exporter": "python",
   "pygments_lexer": "ipython3",
   "version": "3.7.4"
  }
 },
 "nbformat": 4,
 "nbformat_minor": 2
}
