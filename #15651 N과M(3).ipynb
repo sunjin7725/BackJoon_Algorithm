{
 "cells": [
  {
   "cell_type": "code",
   "execution_count": 1,
   "metadata": {},
   "outputs": [],
   "source": [
    "from itertools import product"
   ]
  },
  {
   "cell_type": "code",
   "execution_count": 2,
   "metadata": {},
   "outputs": [
    {
     "name": "stdout",
     "output_type": "stream",
     "text": [
      "4 2\n"
     ]
    }
   ],
   "source": [
    "N,M = (int(i) for i in input().split())"
   ]
  },
  {
   "cell_type": "code",
   "execution_count": 3,
   "metadata": {},
   "outputs": [],
   "source": [
    "_list = []\n",
    "for i in range(N):\n",
    "    _list.append(i+1)"
   ]
  },
  {
   "cell_type": "code",
   "execution_count": 4,
   "metadata": {},
   "outputs": [
    {
     "name": "stdout",
     "output_type": "stream",
     "text": [
      "1 1 \n",
      "1 2 \n",
      "1 3 \n",
      "1 4 \n",
      "2 1 \n",
      "2 2 \n",
      "2 3 \n",
      "2 4 \n",
      "3 1 \n",
      "3 2 \n",
      "3 3 \n",
      "3 4 \n",
      "4 1 \n",
      "4 2 \n",
      "4 3 \n",
      "4 4 \n"
     ]
    }
   ],
   "source": [
    "if M == 1:\n",
    "    for i in list(product(_list,repeat=M)):\n",
    "        print(i[0])\n",
    "else:\n",
    "    for i in list(product(_list,repeat=M)):\n",
    "        for j in i:\n",
    "            print(j, end=' ')\n",
    "        print(end = '\\n')"
   ]
  },
  {
   "cell_type": "code",
   "execution_count": null,
   "metadata": {},
   "outputs": [],
   "source": []
  }
 ],
 "metadata": {
  "kernelspec": {
   "display_name": "Python 3",
   "language": "python",
   "name": "python3"
  },
  "language_info": {
   "codemirror_mode": {
    "name": "ipython",
    "version": 3
   },
   "file_extension": ".py",
   "mimetype": "text/x-python",
   "name": "python",
   "nbconvert_exporter": "python",
   "pygments_lexer": "ipython3",
   "version": "3.7.4"
  }
 },
 "nbformat": 4,
 "nbformat_minor": 2
}
